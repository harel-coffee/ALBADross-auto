{
 "cells": [
  {
   "cell_type": "code",
   "execution_count": 1,
   "id": "29475548",
   "metadata": {},
   "outputs": [],
   "source": [
    "import sys\n",
    "sys.path.append(\"../\")"
   ]
  },
  {
   "cell_type": "code",
   "execution_count": 2,
   "id": "ac1ce61a",
   "metadata": {},
   "outputs": [],
   "source": [
    "%load_ext autoreload\n",
    "%autoreload 2"
   ]
  },
  {
   "cell_type": "code",
   "execution_count": 3,
   "id": "92b90193",
   "metadata": {
    "scrolled": true
   },
   "outputs": [],
   "source": [
    "from modAL.models import ActiveLearner\n",
    "from modAL.uncertainty import uncertainty_sampling\n",
    "from sklearn.ensemble import RandomForestClassifier"
   ]
  },
  {
   "cell_type": "code",
   "execution_count": 4,
   "id": "81782f45",
   "metadata": {},
   "outputs": [],
   "source": [
    "import pandas as pd\n",
    "import os,sys\n",
    "from pathlib import Path\n",
    "import json \n",
    "import logging\n",
    "logging.basicConfig(format='%(asctime)s %(levelname)-7s %(message)s',\n",
    "                    stream=sys.stderr, level=logging.INFO)\n",
    "mpl_logger = logging.getLogger('matplotlib')\n",
    "mpl_logger.setLevel(logging.INFO)\n",
    "\n",
    "from sklearn.semi_supervised import LabelPropagation, LabelSpreading\n",
    "\n",
    "#General ML \n",
    "from sklearn.metrics import f1_score, confusion_matrix, accuracy_score, silhouette_score,confusion_matrix, ConfusionMatrixDisplay\n",
    "from sklearn.preprocessing import StandardScaler, MinMaxScaler\n",
    "from sklearn.model_selection import train_test_split\n",
    "from sklearn.feature_selection import SelectKBest, chi2\n",
    "from modules.clustering_helpers import select_labeled_samples\n",
    "\n",
    "#In-house Module Imports\n",
    "from config import Configuration \n",
    "from datasets import EclipseSampledDataset, VoltaSampledDataset\n",
    "from utils import *"
   ]
  },
  {
   "cell_type": "markdown",
   "id": "fd831e38",
   "metadata": {},
   "source": [
    "## Guide\n",
    "\n",
    "This code will generate different labeled data percentages for the selected CV fold."
   ]
  },
  {
   "cell_type": "code",
   "execution_count": 5,
   "id": "3236f921",
   "metadata": {},
   "outputs": [
    {
     "name": "stderr",
     "output_type": "stream",
     "text": [
      "2022-05-05 12:46:57,975 WARNING Are you sure that you are: aksar?\n"
     ]
    }
   ],
   "source": [
    "user = \"aksar\"\n",
    "logging.warning(f'Are you sure that you are: {user}?')"
   ]
  },
  {
   "cell_type": "code",
   "execution_count": 28,
   "id": "b3893528",
   "metadata": {},
   "outputs": [],
   "source": [
    "#Update these\n",
    "CV_INDEX = 4\n",
    "OUTER_DIR = \"active_learning_experiments_final_hdfs\"\n",
    "SYSTEM = 'eclipse'\n",
    "FE_NAME = 'tsfresh'\n",
    "EXP_NAME = f'{FE_NAME}_experiments'"
   ]
  },
  {
   "cell_type": "code",
   "execution_count": 29,
   "id": "e539aaac",
   "metadata": {},
   "outputs": [
    {
     "name": "stderr",
     "output_type": "stream",
     "text": [
      "2022-05-05 13:21:32,596 WARNING Results will be generated in eclipse_labeled_data_gen, double check please!\n"
     ]
    }
   ],
   "source": [
    "OUTPUT_DIR = f'/projectnb/peaclab-mon/{user}/{OUTER_DIR}'\n",
    "FEATURE_SELECTION = False\n",
    "SCALER = 'None' #For now, do the scaling inside the notebook, then you can move that to the class function\n",
    "MODEL_CONFIG = f'{SYSTEM}_labeled_data_gen'\n",
    "logging.warning('Results will be generated in {}, double check please!'.format(MODEL_CONFIG))"
   ]
  },
  {
   "cell_type": "code",
   "execution_count": 30,
   "id": "acd70b6f",
   "metadata": {},
   "outputs": [
    {
     "name": "stderr",
     "output_type": "stream",
     "text": [
      "2022-05-05 13:21:32,629 WARNING You set windowing False, but you are trying to define window_size parameter, it is automatically set to 0. Please double check.\n",
      "2022-05-05 13:21:32,629 INFO    Setting directory names\n",
      "2022-05-05 13:21:32,648 INFO    Saving configuration as CSV\n"
     ]
    },
    {
     "name": "stdout",
     "output_type": "stream",
     "text": [
      "# The configuration used for this run:\n",
      "# {'cv_fold': 4,\n",
      "#  'exp_name': 'tsfresh_experiments',\n",
      "#  'experiment_dir': PosixPath('/projectnb/peaclab-mon/aksar/active_learning_experiments_final_hdfs/eclipse/tsfresh_experiments'),\n",
      "#  'feature_extract': False,\n",
      "#  'feature_select': False,\n",
      "#  'hdf_data_path': PosixPath('/projectnb/peaclab-mon/aksar/datasets/eclipse_final_hdfs'),\n",
      "#  'metadata_path': None,\n",
      "#  'model_config': 'eclipse_labeled_data_gen',\n",
      "#  'model_config_dir': PosixPath('/projectnb/peaclab-mon/aksar/active_learning_experiments_final_hdfs/eclipse/tsfresh_experiments/CV_4/eclipse_labeled_data_gen'),\n",
      "#  'model_dir': PosixPath('/projectnb/peaclab-mon/aksar/active_learning_experiments_final_hdfs/eclipse/tsfresh_experiments/CV_4/eclipse_labeled_data_gen/model'),\n",
      "#  'num_split': 5,\n",
      "#  'operation': 'read',\n",
      "#  'output_dir': PosixPath('/projectnb/peaclab-mon/aksar/active_learning_experiments_final_hdfs/eclipse'),\n",
      "#  'plots_dir': PosixPath('/projectnb/peaclab-mon/aksar/active_learning_experiments_final_hdfs/eclipse/tsfresh_experiments/CV_4/eclipse_labeled_data_gen/model/plots'),\n",
      "#  'processed_ldms_data_path': None,\n",
      "#  'raw_ldms_data_path': None,\n",
      "#  'results_dir': PosixPath('/projectnb/peaclab-mon/aksar/active_learning_experiments_final_hdfs/eclipse/tsfresh_experiments/CV_4/eclipse_labeled_data_gen/results'),\n",
      "#  'runtime_testing_dir': None,\n",
      "#  'system': 'eclipse',\n",
      "#  'window_size': 0,\n",
      "#  'windowing': False}\n"
     ]
    }
   ],
   "source": [
    "conf = Configuration(ipython=True,\n",
    "                     overrides={\n",
    "                         'output_dir': Path(OUTPUT_DIR), #change\n",
    "                         'system' : SYSTEM,\n",
    "                         'exp_name':EXP_NAME,                                                  \n",
    "                         'cv_fold':CV_INDEX, \n",
    "                         'model_config': MODEL_CONFIG,\n",
    "                     })\n",
    "\n",
    "with open(str(conf['experiment_dir']) + '/anom_dict.json') as f:\n",
    "    ANOM_DICT = json.load(f)\n",
    "with open(str(conf['experiment_dir']) + '/app_dict.json') as f:\n",
    "    APP_DICT = json.load(f) \n",
    "    \n",
    "APP_REVERSE_DICT = {}\n",
    "for app_name, app_encoding in APP_DICT.items():\n",
    "    APP_REVERSE_DICT[app_encoding] = app_name    \n",
    "\n",
    "ANOM_REVERSE_DICT = {}\n",
    "for anom_name, anom_encoding in ANOM_DICT.items():\n",
    "    ANOM_REVERSE_DICT[anom_encoding] = anom_name"
   ]
  },
  {
   "cell_type": "code",
   "execution_count": 31,
   "id": "5ec592e6",
   "metadata": {},
   "outputs": [
    {
     "name": "stderr",
     "output_type": "stream",
     "text": [
      "2022-05-05 13:21:32,692 INFO    BaseDataset Class Initialization\n",
      "2022-05-05 13:21:32,693 INFO    HPCDataset Class Initialization\n",
      "2022-05-05 13:21:32,693 INFO    EclipseSampledDataset Class Initialization\n",
      "2022-05-05 13:23:09,262 INFO    Train data shape (5616, 121836)\n",
      "2022-05-05 13:23:09,263 INFO    Train label shape (5616, 2)\n",
      "2022-05-05 13:23:09,264 INFO    Test data shape (18950, 121836)\n",
      "2022-05-05 13:23:09,264 INFO    Test label shape (18950, 2)\n",
      "2022-05-05 13:23:09,266 WARNING Beware that no scaling method is applied\n",
      "2022-05-05 13:24:27,017 INFO    Train data shape (5616, 80839)\n",
      "2022-05-05 13:24:27,019 INFO    Train label shape (5616, 3)\n",
      "2022-05-05 13:24:27,019 INFO    Test data shape (18950, 80839)\n",
      "2022-05-05 13:24:27,020 INFO    Test label shape (18950, 3)\n",
      "2022-05-05 13:24:27,024 INFO    Train data label dist: \n",
      "0    5055\n",
      "4     167\n",
      "3     166\n",
      "2     115\n",
      "1     113\n",
      "Name: anom, dtype: int64\n",
      "2022-05-05 13:24:27,027 INFO    Test data label dist: \n",
      "4    5240\n",
      "3    5205\n",
      "2    3627\n",
      "1    3608\n",
      "0    1270\n",
      "Name: anom, dtype: int64\n"
     ]
    }
   ],
   "source": [
    "if SYSTEM == 'eclipse':\n",
    "    eclipseDataset = EclipseSampledDataset(conf)\n",
    "    train_data, train_label, test_data, test_label = eclipseDataset.load_dataset(\n",
    "                                                         cv_fold=CV_INDEX, \n",
    "                                                         scaler=SCALER,\n",
    "                                                         borghesi=False, \n",
    "                                                         mvts=True if FE_NAME == 'mvts' else False, \n",
    "                                                         tsfresh=True if FE_NAME == 'tsfresh' else False)\n",
    "                                                                                 \n",
    "elif SYSTEM == 'volta':\n",
    "    voltaDataset = VoltaSampledDataset(conf)\n",
    "    train_data, train_label, test_data, test_label = voltaDataset.load_dataset(\n",
    "                                                           cv_fold=CV_INDEX,        \n",
    "                                                           scaler=SCALER,\n",
    "                                                           borghesi=False,\n",
    "                                                           mvts=True if FE_NAME == 'mvts' else False, \n",
    "                                                           tsfresh=True if FE_NAME == 'tsfresh' else False)\n",
    "                                                                               \n",
    "                                                                               \n",
    "assert list(train_data.index) == list(train_label.index) #check the order of the labels     \n",
    "assert list(test_data.index) == list(test_label.index) #check the order of the labels    \n",
    "\n",
    "if FEATURE_SELECTION:\n",
    "    selected_features = pd.read_csv(conf['experiment_dir'] / 'selected_features.csv')\n",
    "    train_data = train_data[list(selected_features['0'].values)]\n",
    "    test_data = test_data[list(selected_features['0'].values)]\n",
    "    \n",
    "train_label['anom_names'] = train_label.apply(lambda x: ANOM_REVERSE_DICT[x['anom']], axis=1)\n",
    "test_label['anom_names'] = test_label.apply(lambda x: ANOM_REVERSE_DICT[x['anom']], axis=1)\n",
    "\n",
    "all_data = pd.concat([train_data, test_data])\n",
    "all_data = all_data.dropna(axis=1, how='any')\n",
    "all_label = pd.concat([train_label,test_label])\n",
    "\n",
    "train_data = all_data.loc[train_label.index]\n",
    "test_data = all_data.loc[test_label.index]\n",
    "    \n",
    "logging.info(\"Train data shape %s\",train_data.shape)\n",
    "logging.info(\"Train label shape %s\",train_label.shape)\n",
    "logging.info(\"Test data shape %s\",test_data.shape)  \n",
    "logging.info(\"Test label shape %s\",test_label.shape)\n",
    "\n",
    "logging.info(\"Train data label dist: \\n%s\",train_label['anom'].value_counts())\n",
    "logging.info(\"Test data label dist: \\n%s\",test_label['anom'].value_counts())  "
   ]
  },
  {
   "cell_type": "code",
   "execution_count": 32,
   "id": "5c783026",
   "metadata": {},
   "outputs": [],
   "source": [
    "if SYSTEM == 'eclipse':\n",
    "    num_samples_per_pair = [1,3,5]\n",
    "    num_of_app = 6\n",
    "elif SYSTEM == 'volta':\n",
    "    num_samples_per_pair = [1,7,13]\n",
    "    num_of_app = 11\n",
    "else:\n",
    "    raise"
   ]
  },
  {
   "cell_type": "code",
   "execution_count": 33,
   "id": "13bfea26",
   "metadata": {},
   "outputs": [
    {
     "name": "stderr",
     "output_type": "stream",
     "text": [
      "2022-05-05 13:24:27,575 INFO    Labeled data label dist: \n",
      "4    8\n",
      "3    8\n",
      "2    7\n",
      "1    7\n",
      "0    6\n",
      "Name: anom, dtype: int64\n",
      "2022-05-05 13:24:27,578 INFO    Unlabeled data label dist: \n",
      "0    5049\n",
      "4     159\n",
      "3     158\n",
      "2     108\n",
      "1     106\n",
      "Name: anom, dtype: int64\n",
      "2022-05-05 13:24:27,697 INFO    Labeled data label dist: \n",
      "4    27\n",
      "3    27\n",
      "2    18\n",
      "1    18\n",
      "0    18\n",
      "Name: anom, dtype: int64\n",
      "2022-05-05 13:24:27,700 INFO    Unlabeled data label dist: \n",
      "0    5037\n",
      "4     140\n",
      "3     139\n",
      "2      97\n",
      "1      95\n",
      "Name: anom, dtype: int64\n",
      "2022-05-05 13:24:27,813 INFO    Labeled data label dist: \n",
      "4    44\n",
      "3    43\n",
      "2    31\n",
      "1    31\n",
      "0    30\n",
      "Name: anom, dtype: int64\n",
      "2022-05-05 13:24:27,816 INFO    Unlabeled data label dist: \n",
      "0    5025\n",
      "3     123\n",
      "4     123\n",
      "2      84\n",
      "1      82\n",
      "Name: anom, dtype: int64\n"
     ]
    }
   ],
   "source": [
    "for num_sample_per_pair in num_samples_per_pair:\n",
    "    \n",
    "    labeled_train_label, labeled_test_label, node_indices_labeled  = select_labeled_samples(train_label, num_sample_per_pair, num_of_app)\n",
    "\n",
    "    logging.info(\"Labeled data label dist: \\n%s\",labeled_train_label['anom'].value_counts())\n",
    "    logging.info(\"Unlabeled data label dist: \\n%s\",labeled_test_label['anom'].value_counts()) \n",
    "\n",
    "    labeled_train_label.to_csv(conf['experiment_dir'] / f'CV_{CV_INDEX}'/ f'labeled_train_label_{num_sample_per_pair}.csv')\n",
    "    labeled_test_label.to_csv(conf['experiment_dir'] / f'CV_{CV_INDEX}'/ f'labeled_test_label_{num_sample_per_pair}.csv')"
   ]
  },
  {
   "cell_type": "code",
   "execution_count": null,
   "id": "1693f5e0",
   "metadata": {},
   "outputs": [],
   "source": []
  },
  {
   "cell_type": "code",
   "execution_count": null,
   "id": "150383a0",
   "metadata": {},
   "outputs": [],
   "source": []
  },
  {
   "cell_type": "code",
   "execution_count": null,
   "id": "4cbe0be0",
   "metadata": {},
   "outputs": [],
   "source": []
  }
 ],
 "metadata": {
  "kernelspec": {
   "display_name": "Python 3",
   "language": "python",
   "name": "python3"
  },
  "language_info": {
   "codemirror_mode": {
    "name": "ipython",
    "version": 3
   },
   "file_extension": ".py",
   "mimetype": "text/x-python",
   "name": "python",
   "nbconvert_exporter": "python",
   "pygments_lexer": "ipython3",
   "version": "3.6.5"
  }
 },
 "nbformat": 4,
 "nbformat_minor": 5
}
